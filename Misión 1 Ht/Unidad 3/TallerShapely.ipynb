{
  "nbformat": 4,
  "nbformat_minor": 0,
  "metadata": {
    "colab": {
      "provenance": [],
      "authorship_tag": "ABX9TyPQFwXejqKguO45lvcOIJLC",
      "include_colab_link": true
    },
    "kernelspec": {
      "name": "python3",
      "display_name": "Python 3"
    },
    "language_info": {
      "name": "python"
    }
  },
  "cells": [
    {
      "cell_type": "markdown",
      "metadata": {
        "id": "view-in-github",
        "colab_type": "text"
      },
      "source": [
        "<a href=\"https://colab.research.google.com/github/diegofescg/TalentoTech/blob/main/TallerShapely.ipynb\" target=\"_parent\"><img src=\"https://colab.research.google.com/assets/colab-badge.svg\" alt=\"Open In Colab\"/></a>"
      ]
    },
    {
      "cell_type": "code",
      "execution_count": null,
      "metadata": {
        "colab": {
          "base_uri": "https://localhost:8080/",
          "height": 435
        },
        "id": "viry7Sd2IAea",
        "outputId": "3e17ae96-2333-4c73-cdb1-064b94ac591b"
      },
      "outputs": [
        {
          "output_type": "display_data",
          "data": {
            "text/plain": [
              "<Figure size 640x480 with 1 Axes>"
            ],
            "image/png": "[encoded data removed]"
          },
          "metadata": {}
        }
      ],
      "source": [
        "from shapely.geometry import Polygon\n",
        "import matplotlib.pyplot as plt\n",
        "\n",
        "# Definir el exterior\n",
        "externo = [(0, 0), (0, 3), (3, 3), (3, 0)]\n",
        "\n",
        "# Definir el interior\n",
        "interno = [(0.15, 0.15), (0.15, 2.85), (2.85, 2.85), (2.85, 0.15)]\n",
        "\n",
        "#Creando las figuras\n",
        "c_externo = Polygon(externo)\n",
        "c_interno = Polygon(interno)\n",
        "\n",
        "# Crear la figura de Matplotlib\n",
        "fig, ax = plt.subplots()\n",
        "\n",
        "# Dibujar el cuadro grande\n",
        "x, y = c_externo.exterior.xy\n",
        "ax.plot(x, y, color='black', alpha=0.5)\n",
        "\n",
        "# Dibujar el cuadro pequeño\n",
        "x, y = c_interno.exterior.xy\n",
        "ax.plot(x, y, color='black', alpha=0.5)\n",
        "\n",
        "# Pintando el cuadro grande de color azul\n",
        "ax.fill(*c_externo.exterior.xy, color='green', alpha=0.4)\n",
        "\n",
        "# Pintando el cuadro pequeño de color blanco\n",
        "ax.fill(*c_interno.exterior.xy, color='white', alpha=1.0)\n",
        "\n",
        "# Tamaño del gráfico\n",
        "ax.set_aspect('equal')\n",
        "ax.set_xlim([-0.5, 4.0])\n",
        "ax.set_ylim([-0.5, 4.0])\n",
        "ax.grid(False)\n",
        "\n",
        "# Mostrar la figura\n",
        "plt.show()"
      ]
    },
    {
      "cell_type": "code",
      "source": [
        "from shapely.geometry import Polygon\n",
        "import matplotlib.pyplot as plt\n",
        "\n",
        "# Definir el cuadrado izquierdo\n",
        "c_izquierdo = [(0, 0), (0, 4), (4, 4), (4, 0)]\n",
        "\n",
        "# Definir el interior izquierdo\n",
        "c_interno = [(0.25, 0.25), (0.25, 3.75), (3.75, 3.75), (3.75, 0.25)]\n",
        "\n",
        "# Definir el cuadrado derecho\n",
        "c_derecho = [(4, 0), (4, 4), (8, 4), (8, 0)]\n",
        "\n",
        "# Crear los polígonos a partir de las coordenadas de los vértices\n",
        "cuadrado_izquierdo = Polygon(c_izquierdo)\n",
        "cuadrado_interno = Polygon(c_interno)\n",
        "cuadrado_derecho = Polygon(c_derecho)\n",
        "\n",
        "# Crear la figura de Matplotlib\n",
        "fig, ax = plt.subplots()\n",
        "\n",
        "# Dibujar los cuadrados izquierdo, derecho e interno\n",
        "x, y = cuadrado_izquierdo.exterior.xy\n",
        "ax.plot(x, y, color='black', alpha=0.5)\n",
        "x, y = cuadrado_interno.exterior.xy\n",
        "ax.plot(x, y, color='black', alpha=0.5)\n",
        "x, y = cuadrado_derecho.exterior.xy\n",
        "ax.plot(x, y, color='black', alpha=0.5)\n",
        "\n",
        "# Pintando el cuadro izquierdo de color rojo\n",
        "ax.fill(*cuadrado_izquierdo.exterior.xy, color='red', alpha=0.5)\n",
        "# Pintando el cuadro derecho de color rojo\n",
        "ax.fill(*cuadrado_derecho.exterior.xy, color='red', alpha=0.5)\n",
        "# Pintando el cuadro interno de color blanco\n",
        "ax.fill(*cuadrado_interno.exterior.xy, color='white', alpha=1.0)\n",
        "\n",
        "# Tamaño del gráfico\n",
        "ax.set_aspect('equal')\n",
        "ax.set_xlim([-0.5, 9])\n",
        "ax.set_ylim([-0.5, 5])\n",
        "ax.grid(False)\n",
        "\n",
        "# Mostrar la figura\n",
        "plt.show()\n"
      ],
      "metadata": {
        "colab": {
          "base_uri": "https://localhost:8080/",
          "height": 353
        },
        "id": "H0Qvxh2ypeaV",
        "outputId": "6030fdd3-5335-421c-d4fe-3877206cd732"
      },
      "execution_count": null,
      "outputs": [
        {
          "output_type": "display_data",
          "data": {
            "text/plain": [
              "<Figure size 640x480 with 1 Axes>"
            ],
            "image/png": "[encoded data removed]"
          },
          "metadata": {}
        }
      ]
    }
  ]
}
